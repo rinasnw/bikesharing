{
 "cells": [
  {
   "cell_type": "code",
   "execution_count": null,
   "metadata": {},
   "outputs": [],
   "source": [
    "#bibliotecas\n",
    "import pandas as pd\n",
    "import numpy as np\n",
    "import matplotlib.pyplot as plt\n",
    "import seaborn as sns\n",
    "import sklearn as sk"
   ]
  },
  {
   "cell_type": "code",
   "execution_count": null,
   "metadata": {},
   "outputs": [],
   "source": [
    "#arquivos csv\n",
    "train = pd.read_csv(\"train.csv\")\n",
    "test = pd.read_csv(\"test.csv\")\n",
    "sample = pd.read_csv('sampleSubmission.csv')"
   ]
  },
  {
   "cell_type": "code",
   "execution_count": null,
   "metadata": {},
   "outputs": [],
   "source": [
    "#primeiras 5 linhas do dado\n",
    "test.head()"
   ]
  },
  {
   "cell_type": "code",
   "execution_count": null,
   "metadata": {},
   "outputs": [],
   "source": [
    "train.head()"
   ]
  },
  {
   "cell_type": "code",
   "execution_count": null,
   "metadata": {},
   "outputs": [],
   "source": [
    "#somente dados de quantidade das pessoas que alugaram bike\n",
    "train['count']"
   ]
  },
  {
   "cell_type": "code",
   "execution_count": null,
   "metadata": {},
   "outputs": [],
   "source": [
    "#dados com weather 1\n",
    "train.loc[train.weather == 1]"
   ]
  },
  {
   "cell_type": "code",
   "execution_count": null,
   "metadata": {},
   "outputs": [],
   "source": [
    "#dados com weather 2\n",
    "train.loc[train.weather == 2]"
   ]
  },
  {
   "cell_type": "code",
   "execution_count": null,
   "metadata": {},
   "outputs": [],
   "source": [
    "#dados com weather 3\n",
    "train.loc[train.weather == 3]"
   ]
  },
  {
   "cell_type": "code",
   "execution_count": null,
   "metadata": {},
   "outputs": [],
   "source": [
    "#dados com weather 4\n",
    "train.loc[train.weather == 4]"
   ]
  },
  {
   "cell_type": "code",
   "execution_count": null,
   "metadata": {},
   "outputs": [],
   "source": [
    "#pegando somente os horarios de datetime\n",
    "train['time'] = train['datetime'].str[11:13]\n",
    "train['time']\n",
    "\n",
    "test['time'] = test['datetime'].str[11:13]\n",
    "test['time']"
   ]
  },
  {
   "cell_type": "code",
   "execution_count": null,
   "metadata": {},
   "outputs": [],
   "source": [
    "#transformando dtype: object para dtype: int\n",
    "train['time'] = train['time'].astype(int)\n",
    "train[\"time\"]\n",
    "\n",
    "test['time'] = test['time'].astype(int)\n",
    "test[\"time\"]"
   ]
  },
  {
   "cell_type": "code",
   "execution_count": null,
   "metadata": {},
   "outputs": [],
   "source": [
    "#ver as relações entre os dados\n",
    "correlacao = train.corr()\n",
    "plt.figure()\n",
    "sns.heatmap(data=correlacao, annot=True)"
   ]
  },
  {
   "cell_type": "code",
   "execution_count": null,
   "metadata": {},
   "outputs": [],
   "source": [
    "#relação entre horário e aluguel de bike\n",
    "sns.barplot(x=\"time\", y=\"count\", data=train)"
   ]
  },
  {
   "cell_type": "code",
   "execution_count": null,
   "metadata": {},
   "outputs": [],
   "source": [
    "train.atemp.describe()"
   ]
  },
  {
   "cell_type": "code",
   "execution_count": null,
   "metadata": {},
   "outputs": [],
   "source": [
    "#lista criada a partir de 'atemp' para medir o indicador: 0 = Muito Frio, 1 = Frio, 2 = Ameno, 3 = Quente\n",
    "sensacaot_train = []\n",
    "\n",
    "for atemp in train[\"atemp\"]:\n",
    "  if atemp < 10:\n",
    "    sensacaot_train.append(0)\n",
    "  elif atemp < 20:\n",
    "    sensacaot_train.append(1)\n",
    "  elif atemp < 30:\n",
    "    sensacaot_train.append(2)\n",
    "  else:\n",
    "    sensacaot_train.append(3)\n",
    "\n",
    "train[\"sensacaot\"] = sensacaot_train\n",
    "\n",
    "#mesma coisa porém com dados de test\n",
    "sensacaot_test = []\n",
    "\n",
    "for atemp in test[\"atemp\"]:\n",
    "  if atemp < 10:\n",
    "    sensacaot_test.append(0)\n",
    "  elif atemp < 20:\n",
    "    sensacaot_test.append(1)\n",
    "  elif atemp < 30:\n",
    "    sensacaot_test.append(2)\n",
    "  else:\n",
    "    sensacaot_test.append(3)\n",
    "\n",
    "test[\"sensacaot\"] = sensacaot_test\n"
   ]
  },
  {
   "cell_type": "code",
   "execution_count": null,
   "metadata": {},
   "outputs": [],
   "source": [
    "#relação de sensação termica e bikes alugadas\n",
    "sns.barplot(x=\"sensacaot\", y=\"count\", data=train)"
   ]
  },
  {
   "cell_type": "code",
   "execution_count": null,
   "metadata": {},
   "outputs": [],
   "source": [
    "#coluna de previsão é y\n",
    "y = test.count"
   ]
  },
  {
   "cell_type": "code",
   "execution_count": null,
   "metadata": {},
   "outputs": [],
   "source": [
    "#recursos\n",
    "test_features = ['season', 'holiday', 'workingday', 'weather', 'temp', 'atemp', 'humidity', 'windspeed', 'time']"
   ]
  },
  {
   "cell_type": "code",
   "execution_count": null,
   "metadata": {},
   "outputs": [],
   "source": [
    "#coluna de recursos é x\n",
    "x_test = train[train_features]"
   ]
  },
  {
   "cell_type": "code",
   "execution_count": null,
   "metadata": {},
   "outputs": [],
   "source": [
    "x_test.describe()"
   ]
  },
  {
   "cell_type": "code",
   "execution_count": null,
   "metadata": {},
   "outputs": [],
   "source": [
    "x_test.head()"
   ]
  },
  {
   "cell_type": "code",
   "execution_count": null,
   "metadata": {},
   "outputs": [],
   "source": [
    "x_test.isnull().sum()"
   ]
  },
  {
   "cell_type": "code",
   "execution_count": null,
   "metadata": {},
   "outputs": [],
   "source": [
    "from sklearn.tree import DecisionTreeRegressor"
   ]
  }
 ],
 "metadata": {
  "kernelspec": {
   "display_name": "Python 3",
   "language": "python",
   "name": "python3"
  },
  "language_info": {
   "codemirror_mode": {
    "name": "ipython",
    "version": 3
   },
   "file_extension": ".py",
   "mimetype": "text/x-python",
   "name": "python",
   "nbconvert_exporter": "python",
   "pygments_lexer": "ipython3",
   "version": "3.10.9 (tags/v3.10.9:1dd9be6, Dec  6 2022, 20:01:21) [MSC v.1934 64 bit (AMD64)]"
  },
  "orig_nbformat": 4,
  "vscode": {
   "interpreter": {
    "hash": "4ec679e98430bd6b77bfc82cc91f9c7a8fb293676b3421a7343278471c453801"
   }
  }
 },
 "nbformat": 4,
 "nbformat_minor": 2
}
